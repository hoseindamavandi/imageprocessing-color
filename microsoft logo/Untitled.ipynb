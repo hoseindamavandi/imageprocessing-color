{
 "cells": [
  {
   "cell_type": "code",
   "execution_count": 140,
   "id": "7b8a6b99-e0ca-41e8-a4e0-d119543860d3",
   "metadata": {},
   "outputs": [],
   "source": [
    "import cv2\n",
    "import numpy as np\n",
    "import matplotlib.pyplot as plt"
   ]
  },
  {
   "cell_type": "code",
   "execution_count": 141,
   "id": "20beb4f1-1088-41ae-9a2a-201bc60c7dbb",
   "metadata": {},
   "outputs": [],
   "source": [
    "image = np.full((600, 1200, 3), 90, dtype=\"uint8\")"
   ]
  },
  {
   "cell_type": "code",
   "execution_count": 142,
   "id": "a0bff274-541c-4797-b30e-21cc0ec2c147",
   "metadata": {
    "tags": []
   },
   "outputs": [],
   "source": [
    "image[200:290,200:290]=[255,50,0]\n",
    "\n",
    "image[200:290,300:390]=[50,255,0]\n",
    "\n",
    "image[300:390,200:290]=[255,185,0]\n",
    "\n",
    "image[300:390,300:390]=[0,200,255]\n",
    "\n",
    "image = cv2.putText(image_result, 'Microsoft', (440, 335), cv2.FONT_HERSHEY_SIMPLEX, \n",
    "                   4, (255, 255, 255), 10, cv2.LINE_AA)"
   ]
  },
  {
   "cell_type": "code",
   "execution_count": 143,
   "id": "46d315cc-3f64-4c2a-b00f-d4d017507263",
   "metadata": {},
   "outputs": [
    {
     "data": {
      "text/plain": [
       "<matplotlib.image.AxesImage at 0x7fbbb2458d90>"
      ]
     },
     "execution_count": 143,
     "metadata": {},
     "output_type": "execute_result"
    },
    {
     "data": {
      "image/png": "[encoded data removed]",
      "text/plain": [
       "<Figure size 432x288 with 1 Axes>"
      ]
     },
     "metadata": {
      "needs_background": "light"
     },
     "output_type": "display_data"
    }
   ],
   "source": [
    "plt.imshow(image)"
   ]
  }
 ],
 "metadata": {
  "kernelspec": {
   "display_name": "Python 3 (ipykernel)",
   "language": "python",
   "name": "python3"
  },
  "language_info": {
   "codemirror_mode": {
    "name": "ipython",
    "version": 3
   },
   "file_extension": ".py",
   "mimetype": "text/x-python",
   "name": "python",
   "nbconvert_exporter": "python",
   "pygments_lexer": "ipython3",
   "version": "3.8.10"
  }
 },
 "nbformat": 4,
 "nbformat_minor": 5
}
